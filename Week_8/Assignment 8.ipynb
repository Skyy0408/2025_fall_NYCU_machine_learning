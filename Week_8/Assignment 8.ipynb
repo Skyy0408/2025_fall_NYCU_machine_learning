{
 "cells": [
  {
   "cell_type": "markdown",
   "id": "2a224553-cd36-49c0-a913-9d0b24f714df",
   "metadata": {},
   "source": [
    "# Problem 1. \n",
    "By Hutchinson approximation with a stochastic vector $v$ s.t. $\\mathbb{E}(vv^T)=I$, we have $$\\left\\{\\begin{array}{l}\\text{tr}(\\nabla_x S)\\approx\\mathbb{E}_{v\\sim p(v)}[v^T(\\nabla_xS)v]\\\\\\|S\\|^2\\approx\\text{tr}(SS^T)=\\mathbb{E}_{v\\sim p(v)}[v^TSS^Tv]=\\mathbb{E}_{v\\sim p(v)}[(v^TS)^2]\\end{array}\\right.$$\n",
    "Then, $L_{SM}\\approx\\mathbb{E}_{x\\sim p(x)}[\\mathbb{E}_{v\\sim p(v)}[v^T(\\nabla_xS)v]+\\frac{1}{2}\\mathbb{E}_{v\\sim p(v)}[(v^TS)^2]]=\\mathbb{E}_{x,v}[v^T(\\nabla_xS)v+\\frac{1}{2}[(v^TS)^2]]=\\mathbb{E}_{x,v}[v^T(\\nabla_xv^TS)+\\frac{1}{2}[(v^TS)^2]]=L_{SSM}$.\n",
    "# Problem 2. \n",
    "SDE is a tool of understanding Diffusion Models.\n",
    "\n",
    "The Forward SDE describe continuous paths of the process of how data transforms to noises as $t=0$ to $t=T$.\n",
    "\n",
    "The Reverse SDE is focus on the flow and get rid of the noises along the flow as $t=T$ to $t=0$, which can generate a new sample that is similar to the true data.\n",
    "\n",
    "Moreover, the process of denoising depends on the $S(x,t;\\theta)$ above.\n",
    "# Questions\n",
    "1. I have attended a speech which mentioned the Brownian Motion and Heat Equation, also, it is used in the financial field. However, there are planty of unexpected incidents happened in recent year, is it also suitable to use Brownian Motion to explain or estimate the stock market?\n",
    "2. It's an irrevalent quesion. I'm wondering that how to find the region that is both interesting and valuable? Actually, I'm not sure that which is the one that I can feel its pulsation in my blood or I can have a motivation to have some further exploration. I just wondering for how to evaluate it."
   ]
  }
 ],
 "metadata": {
  "kernelspec": {
   "display_name": "Python 3 (ipykernel)",
   "language": "python",
   "name": "python3"
  },
  "language_info": {
   "codemirror_mode": {
    "name": "ipython",
    "version": 3
   },
   "file_extension": ".py",
   "mimetype": "text/x-python",
   "name": "python",
   "nbconvert_exporter": "python",
   "pygments_lexer": "ipython3",
   "version": "3.9.6"
  }
 },
 "nbformat": 4,
 "nbformat_minor": 5
}
