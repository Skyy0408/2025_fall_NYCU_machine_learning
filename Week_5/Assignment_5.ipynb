{
 "cells": [
  {
   "cell_type": "markdown",
   "id": "135efca8-e4f2-424a-ae62-6a235f33f4a3",
   "metadata": {},
   "source": [
    "# Written assignment\n",
    "> 1. Prove that $\\displaystyle\\int_{\\mathbb{R}^k}\\dfrac{1}{\\sqrt{(2\\pi)^k|\\Sigma|}\\text{exp}\\left(-\\dfrac{1}{2}(x-\\mu)^T\\Sigma^{-1}(x-\\mu)\\right)}=1$.\n",
    "\n",
    "$$\\begin{array}{cl}\n",
    "&\\displaystyle\\int_{\\mathbb{R}^k}\\dfrac{1}{((2\\pi)^k|\\Sigma|}\\text{exp}\\left(-\\dfrac{1}{2}(x-\\mu)^T\\Sigma^{-1}(x-\\mu)\\right)\\mathrm{d}x\\\\\n",
    "\\overset{y=x-\\mu}{=}&\\displaystyle\\int_{\\mathbb{R}^k}\\dfrac{1}{((2\\pi)^k|\\Sigma|}\\text{exp}\\left(-\\dfrac{1}{2}y^T\\Sigma^{-1}y\\right)\\mathrm{d}y\\\\\n",
    "\\overset{\\Sigma=Q\\Lambda Q^T}{=}&\\displaystyle\\int_{\\mathbb{R}^k}\\dfrac{1}{((2\\pi)^k\\left|\\prod_{i=1}^k\\lambda_i\\right|}\\text{exp}\\left(-\\dfrac{1}{2}(Qy)^T\\Sigma^{-1}(Qy)\\right)\\mathrm{d}y\\\\\n",
    "\\overset{z=Qy}{=}&\\displaystyle\\int_{\\mathbb{R}^k}\\dfrac{1}{((2\\pi)^k\\left|\\prod_{i=1}^k\\lambda_i\\right|}\\text{exp}\\left(-\\dfrac{1}{2}z^T\\Sigma^{-1}z\\right)\\mathrm{d}z\\\\\n",
    "=&\\displaystyle\\int_{\\mathbb{R}^k}\\dfrac{1}{((2\\pi)^k\\left|\\prod_{i=1}^k\\lambda_i\\right|}\\text{exp}\\left(-\\dfrac{1}{2}\\displaystyle\\sum_{i=1}^k\\dfrac{z_i^2}{\\lambda_i}\\right)\\mathrm{d}z\\\\\n",
    "=&\\displaystyle\\int_{\\mathbb{R}^k}\\dfrac{1}{((2\\pi)^k\\left|\\prod_{i=1}^k\\lambda_i\\right|}\\displaystyle\\prod_{i=1}^k\\text{exp}\\left(-\\dfrac{1}{2}\\dfrac{z_i^2}{\\lambda_i}\\right)\\mathrm{d}z\\\\\n",
    "=&\\dfrac{1}{((2\\pi)^k\\left|\\prod_{i=1}^k\\lambda_i\\right|}\\displaystyle\\prod_{i=1}^k\\displaystyle\\int_{-\\infty}^\\infty\\text{exp}\\left(-\\dfrac{1}{2}\\dfrac{z_i^2}{\\lambda_i}\\right)\\mathrm{d}z_i\\\\\n",
    "=&\\dfrac{1}{((2\\pi)^k\\left|\\prod_{i=1}^k\\lambda_i\\right|}\\displaystyle\\prod_{i=1}^k\\displaystyle\\int_{-\\infty}^\\infty\\sqrt{\\dfrac{\\pi}{1/2\\lambda_i}}\\mathrm{d}z_i\\\\\n",
    "=&1\n",
    "\\end{array}$$\n",
    "> 2. Let $A,B$ be $n$-by-$n$ matrices and $x$ be a $n$-by-$1$ vector.\n",
    "> (a) Show that $\\dfrac{\\partial}{\\partial A\\text{tr}(AB)=B^T$.\n",
    "\n",
    "$$\\begin{array}{cl}\n",
    "&\\dfrac{\\partial}{\\partial A_{kl}}\\text{tr}(AB)\\\\\n",
    "=&\\dfrac{\\partial}{\\partial A_{kl}}\\displaystyle\\sum_{i=1}^n\\displaystyle\\sum_{j=1}^n\\dfrac{\\partial A_{ij}}{\\partial A_{kl}}B_{ji}\\\\\n",
    "=& B_{lk}\\\\\n",
    "\\implies & \\dfrac{\\partial}{\\partial A}\\text{tr}(AB)=B^T\n",
    "\\end{array}\n",
    "$$\n",
    "\n",
    "> (b) Show that $x^TAx=\\text{tr}(xx^TA)$.\n",
    "\n",
    "$$\\text{Note that }\\text{tr}(ABC)=\\text{tr}(BCA).$$\n",
    "\n",
    "$$\\text{Thus, }\\text{tr}(xx^TA)=\\text{tr}(x^TAx)=x^TAx.$$\n",
    "\n",
    "> (c) Derive the maximum likelihood estimators for a multivariate Gaussian.\n",
    "\n",
    "$$\\begin{array}{ccl}\n",
    "\\ell(\\boldsymbol{\\mu}, \\boldsymbol{\\Sigma}) &=& \\ln \\left[ \\displaystyle\\prod_{i=1}^{N} \\dfrac{1}{(2\\pi)^{k/2} |\\boldsymbol{\\Sigma}|^{1/2}} \\exp\\left(-\\dfrac{1}{2}(\\mathbf{x}_i - \\boldsymbol{\\mu})^T \\boldsymbol{\\Sigma}^{-1}(\\mathbf{x}_i - \\boldsymbol{\\mu})\\right) \\right] \\\\ \n",
    "&=& \\displaystyle\\sum_{i=1}^{N} \\left[ -\\dfrac{k}{2}\\ln(2\\pi) - \\dfrac{1}{2}\\ln|\\boldsymbol{\\Sigma}| - \\dfrac{1}{2}(\\mathbf{x}_i - \\boldsymbol{\\mu})^T \\boldsymbol{\\Sigma}^{-1}(\\mathbf{x}_i - \\boldsymbol{\\mu}) \\right] \\\\\n",
    "&=& -\\dfrac{Nk}{2}\\ln(2\\pi) - \\dfrac{N}{2}\\ln|\\boldsymbol{\\Sigma}| - \\dfrac{1}{2}\\displaystyle\\sum_{i=1}^{N}(\\mathbf{x}_i - \\boldsymbol{\\mu})^T \\boldsymbol{\\Sigma}^{-1}(\\mathbf{x}_i - \\boldsymbol{\\mu})\\end{array}$$\n",
    "$$\\begin{array}{ccl}\\dfrac{\\partial \\ell}{\\partial \\boldsymbol{\\mu}} &=& \\dfrac{\\partial}{\\partial \\boldsymbol{\\mu}} \\left[ -\\dfrac{1}{2}\\displaystyle\\sum_{i=1}^{N}(\\mathbf{x}_i - \\boldsymbol{\\mu})^T \\boldsymbol{\\Sigma}^{-1}(\\mathbf{x}_i - \\boldsymbol{\\mu}) \\right]\\\\\n",
    "&=& -\\dfrac{1}{2}\\displaystyle\\sum_{i=1}^{N} \\left( -2\\boldsymbol{\\Sigma}^{-1}(\\mathbf{x}_i - \\boldsymbol{\\mu}) \\right) \\\\\n",
    "&=& \\boldsymbol{\\Sigma}^{-1}\\displaystyle\\sum_{i=1}^{N} (\\mathbf{x}_i - \\boldsymbol{\\mu})= \\mathbf{0}\\\\\n",
    "&\\implies&\\boldsymbol{\\Sigma}^{-1} \\left( \\displaystyle\\sum_{i=1}^{N}(\\mathbf{x}_i - \\boldsymbol{\\mu}) \\right) = \\mathbf{0}\\\\\n",
    "&\\implies&\\displaystyle\\sum_{i=1}^{N}\\mathbf{x}_i - N\\boldsymbol{\\mu} = \\mathbf{0}\\\\\n",
    "&\\implies&\\hat{\\boldsymbol{\\mu}}_{ML} = \\dfrac{1}{N}\\displaystyle\\sum_{i=1}^{N}\\mathbf{x}_i\\end{array}$$\n",
    "\n",
    "$$\\begin{array}{ccl}\\ell(\\boldsymbol{\\mu}, \\boldsymbol{\\Sigma}) &= &C - \\dfrac{N}{2}\\ln|\\boldsymbol{\\Sigma}| - \\dfrac{1}{2}\\displaystyle\\sum_{i=1}^{N} \\text{tr}\\left( (\\mathbf{x}_i - \\boldsymbol{\\mu})(\\mathbf{x}_i - \\boldsymbol{\\mu})^T \\boldsymbol{\\Sigma}^{-1} \\right)\\\\\n",
    "&=& C - \\dfrac{N}{2}\\ln|\\boldsymbol{\\Sigma}| - \\dfrac{1}{2} \\text{tr}\\left( \\left[\\displaystyle\\sum_{i=1}^{N} (\\mathbf{x}_i - \\boldsymbol{\\mu})(\\mathbf{x}_i - \\boldsymbol{\\mu})^T\\right] \\boldsymbol{\\Sigma}^{-1} \\right)\\\\\n",
    "&&\\text{Let's define the scatter matrix }S = \\sum_{i=1}^{N} (\\mathbf{x}_i - \\boldsymbol{\\mu})(\\mathbf{x}_i - \\boldsymbol{\\mu})^T.\\\\\n",
    "&=& C - \\dfrac{N}{2}\\ln|\\boldsymbol{\\Sigma}| - \\dfrac{1}{2} \\text{tr}\\left( S \\boldsymbol{\\Sigma}^{-1} \\right)\\end{array}$$\n",
    "\n",
    "$$\\begin{array}{ccl}\\dfrac{\\partial \\ell}{\\partial \\boldsymbol{\\Sigma}^{-1}} = \\dfrac{N}{2}\\boldsymbol{\\Sigma} - \\dfrac{1}{2}S= \\mathbf{0} &\\implies& N\\boldsymbol{\\Sigma} = S\\implies \\hat{\\boldsymbol{\\Sigma}}_{ML} = \\dfrac{1}{N}S = \\dfrac{1}{N}\\displaystyle\\sum_{i=1}^{N} (\\mathbf{x}_i - \\boldsymbol{\\mu})(\\mathbf{x}_i - \\boldsymbol{\\mu})^T\\end{array}$$\n",
    "\n"
   ]
  }
 ],
 "metadata": {
  "kernelspec": {
   "display_name": "Python 3 (ipykernel)",
   "language": "python",
   "name": "python3"
  },
  "language_info": {
   "codemirror_mode": {
    "name": "ipython",
    "version": 3
   },
   "file_extension": ".py",
   "mimetype": "text/x-python",
   "name": "python",
   "nbconvert_exporter": "python",
   "pygments_lexer": "ipython3",
   "version": "3.9.6"
  }
 },
 "nbformat": 4,
 "nbformat_minor": 5
}
